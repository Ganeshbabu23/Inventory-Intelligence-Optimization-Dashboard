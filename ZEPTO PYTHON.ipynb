{
 "cells": [
  {
   "cell_type": "markdown",
   "id": "b3a55f91-815d-4e0b-811e-e88e0c841357",
   "metadata": {},
   "source": [
    "# importing libraries"
   ]
  },
  {
   "cell_type": "code",
   "execution_count": 1,
   "id": "a64fc73e-25fc-4ddf-9c3e-950c4dbfce62",
   "metadata": {},
   "outputs": [],
   "source": [
    "import pandas as pd\n",
    "import numpy as np\n",
    "import pymysql\n",
    "import os"
   ]
  },
  {
   "cell_type": "markdown",
   "id": "36039bbf-2b01-40ae-9b5a-3dffe8ccdffd",
   "metadata": {},
   "source": [
    "# importing csv file"
   ]
  },
  {
   "cell_type": "code",
   "execution_count": 2,
   "id": "c7d05c67-646d-4bcc-b6f2-0cc784666d2e",
   "metadata": {},
   "outputs": [],
   "source": [
    "df=pd.read_csv(r\"C:\\BOSS\\project\\zepto_v1.csv\")"
   ]
  },
  {
   "cell_type": "code",
   "execution_count": 3,
   "id": "a8c22522-fbc0-40ec-84af-b42a53290917",
   "metadata": {},
   "outputs": [
    {
     "data": {
      "text/html": [
       "<div>\n",
       "<style scoped>\n",
       "    .dataframe tbody tr th:only-of-type {\n",
       "        vertical-align: middle;\n",
       "    }\n",
       "\n",
       "    .dataframe tbody tr th {\n",
       "        vertical-align: top;\n",
       "    }\n",
       "\n",
       "    .dataframe thead th {\n",
       "        text-align: right;\n",
       "    }\n",
       "</style>\n",
       "<table border=\"1\" class=\"dataframe\">\n",
       "  <thead>\n",
       "    <tr style=\"text-align: right;\">\n",
       "      <th></th>\n",
       "      <th>Category</th>\n",
       "      <th>name</th>\n",
       "      <th>mrp</th>\n",
       "      <th>discountPercent</th>\n",
       "      <th>availableQuantity</th>\n",
       "      <th>discountedSellingPrice</th>\n",
       "      <th>weightInGms</th>\n",
       "      <th>outOfStock</th>\n",
       "      <th>quantity</th>\n",
       "    </tr>\n",
       "  </thead>\n",
       "  <tbody>\n",
       "    <tr>\n",
       "      <th>0</th>\n",
       "      <td>Fruits &amp; Vegetables</td>\n",
       "      <td>Onion</td>\n",
       "      <td>2500</td>\n",
       "      <td>16</td>\n",
       "      <td>3</td>\n",
       "      <td>2100</td>\n",
       "      <td>1000</td>\n",
       "      <td>False</td>\n",
       "      <td>1</td>\n",
       "    </tr>\n",
       "    <tr>\n",
       "      <th>1</th>\n",
       "      <td>Fruits &amp; Vegetables</td>\n",
       "      <td>Tomato Hybrid</td>\n",
       "      <td>4200</td>\n",
       "      <td>16</td>\n",
       "      <td>3</td>\n",
       "      <td>3500</td>\n",
       "      <td>1000</td>\n",
       "      <td>False</td>\n",
       "      <td>1</td>\n",
       "    </tr>\n",
       "    <tr>\n",
       "      <th>2</th>\n",
       "      <td>Fruits &amp; Vegetables</td>\n",
       "      <td>Tender Coconut</td>\n",
       "      <td>5100</td>\n",
       "      <td>15</td>\n",
       "      <td>3</td>\n",
       "      <td>4300</td>\n",
       "      <td>58</td>\n",
       "      <td>False</td>\n",
       "      <td>1</td>\n",
       "    </tr>\n",
       "    <tr>\n",
       "      <th>3</th>\n",
       "      <td>Fruits &amp; Vegetables</td>\n",
       "      <td>Coriander Leaves</td>\n",
       "      <td>2000</td>\n",
       "      <td>15</td>\n",
       "      <td>3</td>\n",
       "      <td>1700</td>\n",
       "      <td>100</td>\n",
       "      <td>False</td>\n",
       "      <td>100</td>\n",
       "    </tr>\n",
       "    <tr>\n",
       "      <th>4</th>\n",
       "      <td>Fruits &amp; Vegetables</td>\n",
       "      <td>Ladies Finger</td>\n",
       "      <td>1400</td>\n",
       "      <td>14</td>\n",
       "      <td>3</td>\n",
       "      <td>1200</td>\n",
       "      <td>250</td>\n",
       "      <td>False</td>\n",
       "      <td>250</td>\n",
       "    </tr>\n",
       "    <tr>\n",
       "      <th>5</th>\n",
       "      <td>Fruits &amp; Vegetables</td>\n",
       "      <td>Potato</td>\n",
       "      <td>3500</td>\n",
       "      <td>17</td>\n",
       "      <td>3</td>\n",
       "      <td>2900</td>\n",
       "      <td>1000</td>\n",
       "      <td>False</td>\n",
       "      <td>1</td>\n",
       "    </tr>\n",
       "    <tr>\n",
       "      <th>6</th>\n",
       "      <td>Fruits &amp; Vegetables</td>\n",
       "      <td>Lemon</td>\n",
       "      <td>7500</td>\n",
       "      <td>16</td>\n",
       "      <td>3</td>\n",
       "      <td>6300</td>\n",
       "      <td>200</td>\n",
       "      <td>False</td>\n",
       "      <td>200</td>\n",
       "    </tr>\n",
       "    <tr>\n",
       "      <th>7</th>\n",
       "      <td>Fruits &amp; Vegetables</td>\n",
       "      <td>Watermelon</td>\n",
       "      <td>5800</td>\n",
       "      <td>15</td>\n",
       "      <td>3</td>\n",
       "      <td>4900</td>\n",
       "      <td>58</td>\n",
       "      <td>False</td>\n",
       "      <td>1</td>\n",
       "    </tr>\n",
       "    <tr>\n",
       "      <th>8</th>\n",
       "      <td>Fruits &amp; Vegetables</td>\n",
       "      <td>Capsicum Green</td>\n",
       "      <td>2300</td>\n",
       "      <td>17</td>\n",
       "      <td>3</td>\n",
       "      <td>1900</td>\n",
       "      <td>250</td>\n",
       "      <td>False</td>\n",
       "      <td>250</td>\n",
       "    </tr>\n",
       "    <tr>\n",
       "      <th>9</th>\n",
       "      <td>Fruits &amp; Vegetables</td>\n",
       "      <td>Chilli Green</td>\n",
       "      <td>1900</td>\n",
       "      <td>15</td>\n",
       "      <td>3</td>\n",
       "      <td>1600</td>\n",
       "      <td>100</td>\n",
       "      <td>False</td>\n",
       "      <td>100</td>\n",
       "    </tr>\n",
       "  </tbody>\n",
       "</table>\n",
       "</div>"
      ],
      "text/plain": [
       "              Category              name   mrp  discountPercent  \\\n",
       "0  Fruits & Vegetables             Onion  2500               16   \n",
       "1  Fruits & Vegetables     Tomato Hybrid  4200               16   \n",
       "2  Fruits & Vegetables    Tender Coconut  5100               15   \n",
       "3  Fruits & Vegetables  Coriander Leaves  2000               15   \n",
       "4  Fruits & Vegetables    Ladies Finger   1400               14   \n",
       "5  Fruits & Vegetables            Potato  3500               17   \n",
       "6  Fruits & Vegetables             Lemon  7500               16   \n",
       "7  Fruits & Vegetables       Watermelon   5800               15   \n",
       "8  Fruits & Vegetables   Capsicum Green   2300               17   \n",
       "9  Fruits & Vegetables     Chilli Green   1900               15   \n",
       "\n",
       "   availableQuantity  discountedSellingPrice  weightInGms  outOfStock  \\\n",
       "0                  3                    2100         1000       False   \n",
       "1                  3                    3500         1000       False   \n",
       "2                  3                    4300           58       False   \n",
       "3                  3                    1700          100       False   \n",
       "4                  3                    1200          250       False   \n",
       "5                  3                    2900         1000       False   \n",
       "6                  3                    6300          200       False   \n",
       "7                  3                    4900           58       False   \n",
       "8                  3                    1900          250       False   \n",
       "9                  3                    1600          100       False   \n",
       "\n",
       "   quantity  \n",
       "0         1  \n",
       "1         1  \n",
       "2         1  \n",
       "3       100  \n",
       "4       250  \n",
       "5         1  \n",
       "6       200  \n",
       "7         1  \n",
       "8       250  \n",
       "9       100  "
      ]
     },
     "execution_count": 3,
     "metadata": {},
     "output_type": "execute_result"
    }
   ],
   "source": [
    "df.head(10)"
   ]
  },
  {
   "cell_type": "code",
   "execution_count": 4,
   "id": "082c61c2-9245-4657-8572-49adb2da5552",
   "metadata": {},
   "outputs": [],
   "source": [
    "# columns and its header in the table"
   ]
  },
  {
   "cell_type": "markdown",
   "id": "0aa92c16-54e0-4964-97b7-405081546e87",
   "metadata": {},
   "source": [
    "# exploring the dataset"
   ]
  },
  {
   "cell_type": "code",
   "execution_count": 5,
   "id": "9d52fa74-d6c7-41ff-97fe-80481cdcb41d",
   "metadata": {},
   "outputs": [
    {
     "name": "stdout",
     "output_type": "stream",
     "text": [
      "<class 'pandas.core.frame.DataFrame'>\n",
      "RangeIndex: 3732 entries, 0 to 3731\n",
      "Data columns (total 9 columns):\n",
      " #   Column                  Non-Null Count  Dtype \n",
      "---  ------                  --------------  ----- \n",
      " 0   Category                3732 non-null   object\n",
      " 1   name                    3732 non-null   object\n",
      " 2   mrp                     3732 non-null   int64 \n",
      " 3   discountPercent         3732 non-null   int64 \n",
      " 4   availableQuantity       3732 non-null   int64 \n",
      " 5   discountedSellingPrice  3732 non-null   int64 \n",
      " 6   weightInGms             3732 non-null   int64 \n",
      " 7   outOfStock              3732 non-null   bool  \n",
      " 8   quantity                3732 non-null   int64 \n",
      "dtypes: bool(1), int64(6), object(2)\n",
      "memory usage: 237.0+ KB\n"
     ]
    }
   ],
   "source": [
    "df.info()"
   ]
  },
  {
   "cell_type": "code",
   "execution_count": 6,
   "id": "4348fbc6-4146-4785-a091-2e561b3b81dc",
   "metadata": {},
   "outputs": [],
   "source": [
    "# this gets inforamtion like column name ,data types of the data"
   ]
  },
  {
   "cell_type": "code",
   "execution_count": 7,
   "id": "443947a6-92d9-4f4d-b01f-b68c1a43cf58",
   "metadata": {},
   "outputs": [],
   "source": [
    "# here both mrp and discounted selling price bth are in int datatype and need to convert into flot datatypes beacuse it is the better daata type of price"
   ]
  },
  {
   "cell_type": "code",
   "execution_count": 8,
   "id": "08055adc-b3d3-4aab-8306-56087746e19c",
   "metadata": {},
   "outputs": [],
   "source": [
    "df[['mrp','discountedSellingPrice']]=df[['mrp','discountedSellingPrice']].astype(float)"
   ]
  },
  {
   "cell_type": "markdown",
   "id": "24438766-64e5-40de-b001-d158af2fe5ac",
   "metadata": {},
   "source": [
    "# checking and removing null"
   ]
  },
  {
   "cell_type": "code",
   "execution_count": 9,
   "id": "1fa02134-4fdd-4a95-8818-19070be88edf",
   "metadata": {},
   "outputs": [
    {
     "data": {
      "text/plain": [
       "Category                  0\n",
       "name                      0\n",
       "mrp                       0\n",
       "discountPercent           0\n",
       "availableQuantity         0\n",
       "discountedSellingPrice    0\n",
       "weightInGms               0\n",
       "outOfStock                0\n",
       "quantity                  0\n",
       "dtype: int64"
      ]
     },
     "execution_count": 9,
     "metadata": {},
     "output_type": "execute_result"
    }
   ],
   "source": [
    "df.isnull().sum()"
   ]
  },
  {
   "cell_type": "code",
   "execution_count": 10,
   "id": "d1fa073c-32eb-4254-966e-5c7ef979e40b",
   "metadata": {},
   "outputs": [],
   "source": [
    " #here we an see that there is no null values in the table"
   ]
  },
  {
   "cell_type": "code",
   "execution_count": null,
   "id": "2373487d-92cf-4540-b0c1-8e9f89b5208f",
   "metadata": {},
   "outputs": [],
   "source": []
  },
  {
   "cell_type": "code",
   "execution_count": null,
   "id": "03614937-dc00-4a98-892c-94f5a3a6c6a0",
   "metadata": {},
   "outputs": [],
   "source": []
  },
  {
   "cell_type": "markdown",
   "id": "b415869c-8a4b-4521-84ab-af07dae4f586",
   "metadata": {},
   "source": [
    "# checking and removing duplicates"
   ]
  },
  {
   "cell_type": "code",
   "execution_count": 11,
   "id": "1d497370-6de7-4593-8140-5c0374ad1789",
   "metadata": {},
   "outputs": [
    {
     "data": {
      "text/plain": [
       "2"
      ]
     },
     "execution_count": 11,
     "metadata": {},
     "output_type": "execute_result"
    }
   ],
   "source": [
    "df.duplicated().sum()"
   ]
  },
  {
   "cell_type": "code",
   "execution_count": 12,
   "id": "9c0b5b6d-a4e0-444c-9495-e2ebe8e156b3",
   "metadata": {},
   "outputs": [],
   "source": [
    "#here we have 2 duplicate rows  present in the datset"
   ]
  },
  {
   "cell_type": "code",
   "execution_count": 13,
   "id": "9741854f-bda9-4cdf-bd51-9c506e3a0828",
   "metadata": {},
   "outputs": [
    {
     "data": {
      "text/html": [
       "<div>\n",
       "<style scoped>\n",
       "    .dataframe tbody tr th:only-of-type {\n",
       "        vertical-align: middle;\n",
       "    }\n",
       "\n",
       "    .dataframe tbody tr th {\n",
       "        vertical-align: top;\n",
       "    }\n",
       "\n",
       "    .dataframe thead th {\n",
       "        text-align: right;\n",
       "    }\n",
       "</style>\n",
       "<table border=\"1\" class=\"dataframe\">\n",
       "  <thead>\n",
       "    <tr style=\"text-align: right;\">\n",
       "      <th></th>\n",
       "      <th>Category</th>\n",
       "      <th>name</th>\n",
       "      <th>mrp</th>\n",
       "      <th>discountPercent</th>\n",
       "      <th>availableQuantity</th>\n",
       "      <th>discountedSellingPrice</th>\n",
       "      <th>weightInGms</th>\n",
       "      <th>outOfStock</th>\n",
       "      <th>quantity</th>\n",
       "    </tr>\n",
       "  </thead>\n",
       "  <tbody>\n",
       "    <tr>\n",
       "      <th>2908</th>\n",
       "      <td>Personal Care</td>\n",
       "      <td>Listerine Cool Mint Mouthwash - Mild Taste</td>\n",
       "      <td>15000.0</td>\n",
       "      <td>10</td>\n",
       "      <td>6</td>\n",
       "      <td>13500.0</td>\n",
       "      <td>250</td>\n",
       "      <td>False</td>\n",
       "      <td>250</td>\n",
       "    </tr>\n",
       "    <tr>\n",
       "      <th>2946</th>\n",
       "      <td>Personal Care</td>\n",
       "      <td>Listerine Cool Mint Mouthwash - Mild Taste</td>\n",
       "      <td>15000.0</td>\n",
       "      <td>10</td>\n",
       "      <td>6</td>\n",
       "      <td>13500.0</td>\n",
       "      <td>250</td>\n",
       "      <td>False</td>\n",
       "      <td>250</td>\n",
       "    </tr>\n",
       "    <tr>\n",
       "      <th>3252</th>\n",
       "      <td>Paan Corner</td>\n",
       "      <td>Listerine Cool Mint Mouthwash - Mild Taste</td>\n",
       "      <td>15000.0</td>\n",
       "      <td>10</td>\n",
       "      <td>6</td>\n",
       "      <td>13500.0</td>\n",
       "      <td>250</td>\n",
       "      <td>False</td>\n",
       "      <td>250</td>\n",
       "    </tr>\n",
       "    <tr>\n",
       "      <th>3290</th>\n",
       "      <td>Paan Corner</td>\n",
       "      <td>Listerine Cool Mint Mouthwash - Mild Taste</td>\n",
       "      <td>15000.0</td>\n",
       "      <td>10</td>\n",
       "      <td>6</td>\n",
       "      <td>13500.0</td>\n",
       "      <td>250</td>\n",
       "      <td>False</td>\n",
       "      <td>250</td>\n",
       "    </tr>\n",
       "  </tbody>\n",
       "</table>\n",
       "</div>"
      ],
      "text/plain": [
       "           Category                                        name      mrp  \\\n",
       "2908  Personal Care  Listerine Cool Mint Mouthwash - Mild Taste  15000.0   \n",
       "2946  Personal Care  Listerine Cool Mint Mouthwash - Mild Taste  15000.0   \n",
       "3252    Paan Corner  Listerine Cool Mint Mouthwash - Mild Taste  15000.0   \n",
       "3290    Paan Corner  Listerine Cool Mint Mouthwash - Mild Taste  15000.0   \n",
       "\n",
       "      discountPercent  availableQuantity  discountedSellingPrice  weightInGms  \\\n",
       "2908               10                  6                 13500.0          250   \n",
       "2946               10                  6                 13500.0          250   \n",
       "3252               10                  6                 13500.0          250   \n",
       "3290               10                  6                 13500.0          250   \n",
       "\n",
       "      outOfStock  quantity  \n",
       "2908       False       250  \n",
       "2946       False       250  \n",
       "3252       False       250  \n",
       "3290       False       250  "
      ]
     },
     "execution_count": 13,
     "metadata": {},
     "output_type": "execute_result"
    }
   ],
   "source": [
    "df[df.duplicated(keep=False)]"
   ]
  },
  {
   "cell_type": "code",
   "execution_count": 14,
   "id": "ae7ba6d1-882c-4d71-bfd5-6092d120f2ca",
   "metadata": {},
   "outputs": [
    {
     "data": {
      "text/plain": [
       "0"
      ]
     },
     "execution_count": 14,
     "metadata": {},
     "output_type": "execute_result"
    }
   ],
   "source": [
    "df.drop_duplicates(inplace=True)\n",
    "df.duplicated().sum()"
   ]
  },
  {
   "cell_type": "code",
   "execution_count": 15,
   "id": "43873a9b-21d4-43e6-b228-4a8eeca785a6",
   "metadata": {},
   "outputs": [],
   "source": [
    "#removed duplicates from the  table and we have 0 duplicates"
   ]
  },
  {
   "cell_type": "code",
   "execution_count": null,
   "id": "55ee0a3f-8718-4e7b-a070-6e92f68ccc7c",
   "metadata": {},
   "outputs": [],
   "source": []
  },
  {
   "cell_type": "code",
   "execution_count": null,
   "id": "89d06702-437e-40c6-9c1a-b8ae3c14272d",
   "metadata": {},
   "outputs": [],
   "source": []
  },
  {
   "cell_type": "code",
   "execution_count": 16,
   "id": "e80dd004-48d3-41fc-8f4d-0453df6b59fd",
   "metadata": {},
   "outputs": [
    {
     "name": "stdout",
     "output_type": "stream",
     "text": [
      "Processing zepto_v1.csv\n",
      "NaN values before replacement:\n",
      "Category                  0\n",
      "name                      0\n",
      "mrp                       0\n",
      "discountPercent           0\n",
      "availableQuantity         0\n",
      "discountedSellingPrice    0\n",
      "weightInGms               0\n",
      "outOfStock                0\n",
      "quantity                  0\n",
      "dtype: int64\n",
      "\n"
     ]
    }
   ],
   "source": [
    "import os\n",
    "import pandas as pd\n",
    "import pymysql\n",
    "\n",
    "\n",
    "csv_files = [\n",
    "    ('zepto_v1.csv', 'zepto')\n",
    "]\n",
    "\n",
    "\n",
    "folder_path = r'C:\\BOSS\\project'\n",
    "\n",
    "\n",
    "conn = pymysql.connect(\n",
    "    host='localhost',\n",
    "    user='root',\n",
    "    password='Ganesh@2000',\n",
    "    database='zepto'\n",
    ")\n",
    "cursor = conn.cursor()\n",
    "\n",
    "\n",
    "def get_sql_type(dtype):\n",
    "    if pd.api.types.is_integer_dtype(dtype):\n",
    "        return 'INT'\n",
    "    elif pd.api.types.is_float_dtype(dtype):\n",
    "        return 'FLOAT'\n",
    "    elif pd.api.types.is_bool_dtype(dtype):\n",
    "        return 'BOOLEAN'\n",
    "    elif pd.api.types.is_datetime64_any_dtype(dtype):\n",
    "        return 'DATETIME'\n",
    "    else:\n",
    "        return 'TEXT'\n",
    "\n",
    "\n",
    "for csv_file, table_name in csv_files:\n",
    "    file_path = os.path.join(folder_path, csv_file)\n",
    "    \n",
    "    df = pd.read_csv(file_path)\n",
    "    df = df.where(pd.notnull(df), None)\n",
    "\n",
    "    print(f\"Processing {csv_file}\")\n",
    "    print(f\"NaN values before replacement:\\n{df.isnull().sum()}\\n\")\n",
    "\n",
    "    df.columns = [col.replace(' ', '_').replace('-', '_').replace('.', '_') for col in df.columns]\n",
    "\n",
    "    columns = ', '.join([f'`{col}` {get_sql_type(df[col].dtype)}' for col in df.columns])\n",
    "    create_table_query = f'CREATE TABLE IF NOT EXISTS `{table_name}` ({columns})'\n",
    "    cursor.execute(create_table_query)\n",
    "\n",
    "    for _, row in df.iterrows():\n",
    "        values = tuple(None if pd.isna(x) else x for x in row)\n",
    "        sql = f\"INSERT INTO `{table_name}` ({', '.join(['`' + col + '`' for col in df.columns])}) VALUES ({', '.join(['%s'] * len(row))})\"\n",
    "        cursor.execute(sql, values)\n",
    "\n",
    "    conn.commit()\n",
    "\n",
    "conn.close()"
   ]
  },
  {
   "cell_type": "code",
   "execution_count": null,
   "id": "8ebaa6f1-e8fc-4977-bd58-da2d9e3cb872",
   "metadata": {},
   "outputs": [],
   "source": []
  }
 ],
 "metadata": {
  "kernelspec": {
   "display_name": "Python [conda env:base] *",
   "language": "python",
   "name": "conda-base-py"
  },
  "language_info": {
   "codemirror_mode": {
    "name": "ipython",
    "version": 3
   },
   "file_extension": ".py",
   "mimetype": "text/x-python",
   "name": "python",
   "nbconvert_exporter": "python",
   "pygments_lexer": "ipython3",
   "version": "3.12.7"
  }
 },
 "nbformat": 4,
 "nbformat_minor": 5
}
